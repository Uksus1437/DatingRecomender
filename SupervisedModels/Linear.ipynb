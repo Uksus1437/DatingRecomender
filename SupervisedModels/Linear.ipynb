{
 "cells": [
  {
   "cell_type": "code",
   "execution_count": 16,
   "id": "a82ca36c-9115-41c0-bf96-1b9f303a87c4",
   "metadata": {},
   "outputs": [],
   "source": [
    "import pandas as pd\n",
    "import numpy as np\n",
    "import matplotlib.pyplot as plt\n",
    "import seaborn as sns\n",
    "from sklearn.model_selection import GridSearchCV\n",
    "from sklearn.metrics import precision_score, recall_score\n",
    "from sklearn.model_selection import cross_val_score\n",
    "from sklearn.model_selection import train_test_split\n",
    "from sklearn import svm\n",
    "from sklearn.metrics import accuracy_score\n",
    "from mlxtend.plotting import plot_decision_regions\n",
    "from sklearn.linear_model import LinearRegression\n",
    "from sklearn.metrics import mean_squared_error, r2_score\n",
    "from sklearn.linear_model import LogisticRegression\n",
    "from sklearn.metrics import log_loss\n",
    "\n",
    "%matplotlib inline"
   ]
  },
  {
   "cell_type": "code",
   "execution_count": 17,
   "id": "5e60b7e9-7199-4299-8a6b-a4556b639b08",
   "metadata": {},
   "outputs": [],
   "source": [
    "pairs_with_profiles = pd.read_csv('C:/Users/maksim/QuickDatingModel/Data/pairs_with_profiles.csv')\n",
    "filtered_profiles = pd.read_csv('C:/Users/maksim/QuickDatingModel/Data/filtered_profiles.csv')"
   ]
  },
  {
   "cell_type": "code",
   "execution_count": 18,
   "id": "5ee0360e-d6ec-4ef7-98f0-f6da92232a62",
   "metadata": {},
   "outputs": [
    {
     "data": {
      "text/html": [
       "<div>\n",
       "<style scoped>\n",
       "    .dataframe tbody tr th:only-of-type {\n",
       "        vertical-align: middle;\n",
       "    }\n",
       "\n",
       "    .dataframe tbody tr th {\n",
       "        vertical-align: top;\n",
       "    }\n",
       "\n",
       "    .dataframe thead th {\n",
       "        text-align: right;\n",
       "    }\n",
       "</style>\n",
       "<table border=\"1\" class=\"dataframe\">\n",
       "  <thead>\n",
       "    <tr style=\"text-align: right;\">\n",
       "      <th></th>\n",
       "      <th>Unnamed: 0</th>\n",
       "      <th>age_diff</th>\n",
       "      <th>education_diff</th>\n",
       "      <th>drinks_same</th>\n",
       "      <th>smokes_same</th>\n",
       "      <th>body_type_same</th>\n",
       "      <th>match</th>\n",
       "      <th>match_probability</th>\n",
       "      <th>user1</th>\n",
       "      <th>user2</th>\n",
       "      <th>sex_user1</th>\n",
       "      <th>sex_user2</th>\n",
       "    </tr>\n",
       "  </thead>\n",
       "  <tbody>\n",
       "    <tr>\n",
       "      <th>0</th>\n",
       "      <td>0</td>\n",
       "      <td>19.0</td>\n",
       "      <td>0</td>\n",
       "      <td>0</td>\n",
       "      <td>0</td>\n",
       "      <td>1</td>\n",
       "      <td>0</td>\n",
       "      <td>0.348889</td>\n",
       "      <td>55676.0</td>\n",
       "      <td>16029.0</td>\n",
       "      <td>0</td>\n",
       "      <td>1</td>\n",
       "    </tr>\n",
       "    <tr>\n",
       "      <th>1</th>\n",
       "      <td>1</td>\n",
       "      <td>25.0</td>\n",
       "      <td>0</td>\n",
       "      <td>0</td>\n",
       "      <td>0</td>\n",
       "      <td>1</td>\n",
       "      <td>0</td>\n",
       "      <td>0.055556</td>\n",
       "      <td>55676.0</td>\n",
       "      <td>59533.0</td>\n",
       "      <td>0</td>\n",
       "      <td>1</td>\n",
       "    </tr>\n",
       "    <tr>\n",
       "      <th>2</th>\n",
       "      <td>2</td>\n",
       "      <td>3.0</td>\n",
       "      <td>0</td>\n",
       "      <td>0</td>\n",
       "      <td>0</td>\n",
       "      <td>1</td>\n",
       "      <td>1</td>\n",
       "      <td>0.740000</td>\n",
       "      <td>55676.0</td>\n",
       "      <td>49474.0</td>\n",
       "      <td>0</td>\n",
       "      <td>1</td>\n",
       "    </tr>\n",
       "    <tr>\n",
       "      <th>3</th>\n",
       "      <td>3</td>\n",
       "      <td>8.0</td>\n",
       "      <td>0</td>\n",
       "      <td>0</td>\n",
       "      <td>0</td>\n",
       "      <td>0</td>\n",
       "      <td>0</td>\n",
       "      <td>0.578889</td>\n",
       "      <td>55676.0</td>\n",
       "      <td>57955.0</td>\n",
       "      <td>0</td>\n",
       "      <td>1</td>\n",
       "    </tr>\n",
       "    <tr>\n",
       "      <th>4</th>\n",
       "      <td>4</td>\n",
       "      <td>6.0</td>\n",
       "      <td>0</td>\n",
       "      <td>0</td>\n",
       "      <td>0</td>\n",
       "      <td>1</td>\n",
       "      <td>1</td>\n",
       "      <td>0.710000</td>\n",
       "      <td>55676.0</td>\n",
       "      <td>16774.0</td>\n",
       "      <td>0</td>\n",
       "      <td>1</td>\n",
       "    </tr>\n",
       "  </tbody>\n",
       "</table>\n",
       "</div>"
      ],
      "text/plain": [
       "   Unnamed: 0  age_diff  education_diff  drinks_same  smokes_same  \\\n",
       "0           0      19.0               0            0            0   \n",
       "1           1      25.0               0            0            0   \n",
       "2           2       3.0               0            0            0   \n",
       "3           3       8.0               0            0            0   \n",
       "4           4       6.0               0            0            0   \n",
       "\n",
       "   body_type_same  match  match_probability    user1    user2  sex_user1  \\\n",
       "0               1      0           0.348889  55676.0  16029.0          0   \n",
       "1               1      0           0.055556  55676.0  59533.0          0   \n",
       "2               1      1           0.740000  55676.0  49474.0          0   \n",
       "3               0      0           0.578889  55676.0  57955.0          0   \n",
       "4               1      1           0.710000  55676.0  16774.0          0   \n",
       "\n",
       "   sex_user2  \n",
       "0          1  \n",
       "1          1  \n",
       "2          1  \n",
       "3          1  \n",
       "4          1  "
      ]
     },
     "execution_count": 18,
     "metadata": {},
     "output_type": "execute_result"
    }
   ],
   "source": [
    "pairs_with_profiles.head()"
   ]
  },
  {
   "cell_type": "code",
   "execution_count": 20,
   "id": "a0a9ccb6-601f-4749-b66b-6671921b2059",
   "metadata": {},
   "outputs": [
    {
     "data": {
      "text/plain": [
       "(244375, 12)"
      ]
     },
     "execution_count": 20,
     "metadata": {},
     "output_type": "execute_result"
    }
   ],
   "source": [
    "pairs_with_profiles.shape"
   ]
  },
  {
   "cell_type": "markdown",
   "id": "5db5f310-ccd4-4fc4-8206-9dd772378765",
   "metadata": {},
   "source": [
    "Чистим и делим данные"
   ]
  },
  {
   "cell_type": "code",
   "execution_count": 21,
   "id": "70cb15d7-4ac7-43c2-975a-20080590d193",
   "metadata": {},
   "outputs": [],
   "source": [
    "features = ['age_diff', 'education_diff', 'drinks_same', 'smokes_same', 'body_type_same']\n",
    "X = pairs_with_profiles[features]\n",
    "y = pairs_with_profiles['match_probability']\n",
    "X_train, X_test, y_train, y_test = train_test_split(X, y, test_size=0.2, random_state=42)"
   ]
  },
  {
   "cell_type": "markdown",
   "id": "46425b0a-0964-4a0b-9e9f-7dfe74ff8ffe",
   "metadata": {},
   "source": [
    "Линейная модель"
   ]
  },
  {
   "cell_type": "code",
   "execution_count": 22,
   "id": "72d07d5b-90a6-40f8-a45c-8c59da69e83e",
   "metadata": {},
   "outputs": [
    {
     "name": "stdout",
     "output_type": "stream",
     "text": [
      "Mean Squared Error: 0.004080234516564435\n",
      "R-squared: 0.9382559999418978\n"
     ]
    }
   ],
   "source": [
    "linear_model = LinearRegression()\n",
    "linear_model.fit(X_train, y_train)\n",
    "\n",
    "y_pred = linear_model.predict(X_test)\n",
    "\n",
    "mse = mean_squared_error(y_test, y_pred)\n",
    "r2 = r2_score(y_test, y_pred)\n",
    "\n",
    "print(f\"Mean Squared Error: {mse}\")\n",
    "print(f\"R-squared: {r2}\")"
   ]
  },
  {
   "cell_type": "markdown",
   "id": "a1bb6ac0-7e76-46fd-966b-20243896dc97",
   "metadata": {},
   "source": [
    "Логистическая модель"
   ]
  },
  {
   "cell_type": "code",
   "execution_count": 23,
   "id": "641c0ae4-32b2-4978-a33a-ec9c33c7997b",
   "metadata": {},
   "outputs": [
    {
     "name": "stdout",
     "output_type": "stream",
     "text": [
      "Log Loss: 0.058262902214948384\n"
     ]
    }
   ],
   "source": [
    "X = pairs_with_profiles[features]\n",
    "y = pairs_with_profiles['match']\n",
    "\n",
    "X_train, X_test, y_train, y_test = train_test_split(X, y, test_size=0.2, random_state=42)\n",
    "\n",
    "logistic_model = LogisticRegression()\n",
    "logistic_model.fit(X_train, y_train)\n",
    "\n",
    "y_pred_prob = logistic_model.predict_proba(X_test)[:, 1]\n",
    "\n",
    "log_loss_value = log_loss(y_test, y_pred_prob)\n",
    "\n",
    "print(f\"Log Loss: {log_loss_value}\")"
   ]
  },
  {
   "cell_type": "code",
   "execution_count": 49,
   "id": "d390ca3f-c164-4453-9f63-5da1ce57a66a",
   "metadata": {},
   "outputs": [
    {
     "data": {
      "text/plain": [
       "array([9.98306281e-01, 1.95836542e-07, 9.99999965e-01, ...,\n",
       "       1.00000000e+00, 9.99999392e-01, 2.60899591e-31])"
      ]
     },
     "execution_count": 49,
     "metadata": {},
     "output_type": "execute_result"
    }
   ],
   "source": []
  },
  {
   "cell_type": "code",
   "execution_count": null,
   "id": "1304b8c1-2e0b-4070-931c-3b53377099ab",
   "metadata": {},
   "outputs": [],
   "source": []
  },
  {
   "cell_type": "code",
   "execution_count": 24,
   "id": "8d72885b-4e5b-4ef8-a9f5-6a4e348eab48",
   "metadata": {},
   "outputs": [],
   "source": [
    "test_df = pd.DataFrame(pairs_with_profiles.loc[1:1])"
   ]
  },
  {
   "cell_type": "code",
   "execution_count": 25,
   "id": "1f1288d3-08e4-4df2-86a5-1c62e0bf01d9",
   "metadata": {},
   "outputs": [],
   "source": [
    "test_df = test_df[['age_diff', 'education_diff', 'drinks_same', 'smokes_same', 'body_type_same']]"
   ]
  },
  {
   "cell_type": "code",
   "execution_count": 26,
   "id": "033c6bf2-3f7d-48f6-9b31-657c18ebe12c",
   "metadata": {},
   "outputs": [
    {
     "data": {
      "text/plain": [
       "array([0.19169843])"
      ]
     },
     "execution_count": 26,
     "metadata": {},
     "output_type": "execute_result"
    }
   ],
   "source": [
    "linear_model.predict(test_df)"
   ]
  },
  {
   "cell_type": "code",
   "execution_count": null,
   "id": "6be99a53-88d0-444e-931e-39b29fff458e",
   "metadata": {},
   "outputs": [],
   "source": []
  },
  {
   "cell_type": "code",
   "execution_count": 27,
   "id": "c42ff60b-f333-4a0a-95fc-af7a35feaa45",
   "metadata": {},
   "outputs": [],
   "source": [
    "# На вход id пользователя, на выходе: таблица с вероятностями метчей со всеми пользователями\n",
    "def sigmoid(x):\n",
    "    return 1 / (1 + np.exp(-x))\n",
    "\n",
    "def predict_matches_reg(user_id, profiles_df, model):\n",
    "    user_profile = profiles_df.loc[user_id]\n",
    "    data_for_prediction = pd.DataFrame(columns=['id', 'age_diff', 'education_diff', 'drinks_same', 'smokes_same', 'body_type_same'])\n",
    "\n",
    "    rows = []\n",
    "    for other_user_id in profiles_df.index:\n",
    "        if other_user_id != user_id:\n",
    "            age_diff = abs(user_profile['age'] - profiles_df.loc[other_user_id, 'age'])\n",
    "            education_diff = abs(user_profile['education_'] - profiles_df.loc[other_user_id, 'education_'])\n",
    "            drinks_same = int(user_profile['drinks_'] == profiles_df.loc[other_user_id, 'drinks_'])\n",
    "            smokes_same = int(user_profile['smokes_'] == profiles_df.loc[other_user_id, 'smokes_'])\n",
    "            body_type_same = int(user_profile['body_type_'] == profiles_df.loc[other_user_id, 'body_type_'])\n",
    "            \n",
    "            rows.append({\n",
    "                'id': other_user_id,\n",
    "                'age_diff': age_diff,\n",
    "                'education_diff': education_diff,\n",
    "                'drinks_same': drinks_same,\n",
    "                'smokes_same': smokes_same,\n",
    "                'body_type_same': body_type_same\n",
    "            })\n",
    "\n",
    "\n",
    "    data_for_prediction = pd.DataFrame(rows)\n",
    "\n",
    "    X = data_for_prediction.drop(columns='id')\n",
    "    data_for_prediction['match_probability'] = sigmoid(model.predict(X))\n",
    "    \n",
    "    return data_for_prediction[['id', 'match_probability']]\n",
    "\n",
    "def predict_matches_clf(user_id, profiles_df, model):\n",
    "    user_profile = profiles_df.loc[user_id]\n",
    "    data_for_prediction = pd.DataFrame(columns=['id', 'age_diff', 'education_diff', 'drinks_same', 'smokes_same', 'body_type_same'])\n",
    "\n",
    "    rows = []\n",
    "    for other_user_id in profiles_df.index:\n",
    "        if other_user_id != user_id:\n",
    "            age_diff = abs(user_profile['age'] - profiles_df.loc[other_user_id, 'age'])\n",
    "            education_diff = abs(user_profile['education_'] - profiles_df.loc[other_user_id, 'education_'])\n",
    "            drinks_same = int(user_profile['drinks_'] == profiles_df.loc[other_user_id, 'drinks_'])\n",
    "            smokes_same = int(user_profile['smokes_'] == profiles_df.loc[other_user_id, 'smokes_'])\n",
    "            body_type_same = int(user_profile['body_type_'] == profiles_df.loc[other_user_id, 'body_type_'])\n",
    "            \n",
    "            rows.append({\n",
    "                'id': other_user_id,\n",
    "                'age_diff': age_diff,\n",
    "                'education_diff': education_diff,\n",
    "                'drinks_same': drinks_same,\n",
    "                'smokes_same': smokes_same,\n",
    "                'body_type_same': body_type_same\n",
    "            })\n",
    "\n",
    "\n",
    "    data_for_prediction = pd.DataFrame(rows)\n",
    "\n",
    "    X = data_for_prediction.drop(columns='id')\n",
    "    data_for_prediction['match_probability'] = model.predict_proba(X)[:, 1]\n",
    "    # data_for_prediction['match_probability'] = data_for_prediction['match_probability'].round(6)\n",
    "    \n",
    "    return data_for_prediction[['id', 'match_probability']]"
   ]
  },
  {
   "cell_type": "code",
   "execution_count": null,
   "id": "e61d52a2-8649-4fd3-a186-e91fe8a536e8",
   "metadata": {},
   "outputs": [],
   "source": []
  },
  {
   "cell_type": "code",
   "execution_count": 28,
   "id": "036c368a-a22c-40ab-950f-cbcc7f5efc33",
   "metadata": {},
   "outputs": [
    {
     "data": {
      "text/html": [
       "<div>\n",
       "<style scoped>\n",
       "    .dataframe tbody tr th:only-of-type {\n",
       "        vertical-align: middle;\n",
       "    }\n",
       "\n",
       "    .dataframe tbody tr th {\n",
       "        vertical-align: top;\n",
       "    }\n",
       "\n",
       "    .dataframe thead th {\n",
       "        text-align: right;\n",
       "    }\n",
       "</style>\n",
       "<table border=\"1\" class=\"dataframe\">\n",
       "  <thead>\n",
       "    <tr style=\"text-align: right;\">\n",
       "      <th></th>\n",
       "      <th>id</th>\n",
       "      <th>match_probability</th>\n",
       "    </tr>\n",
       "  </thead>\n",
       "  <tbody>\n",
       "    <tr>\n",
       "      <th>862</th>\n",
       "      <td>863</td>\n",
       "      <td>0.737358</td>\n",
       "    </tr>\n",
       "    <tr>\n",
       "      <th>861</th>\n",
       "      <td>862</td>\n",
       "      <td>0.737358</td>\n",
       "    </tr>\n",
       "    <tr>\n",
       "      <th>908</th>\n",
       "      <td>909</td>\n",
       "      <td>0.737358</td>\n",
       "    </tr>\n",
       "    <tr>\n",
       "      <th>992</th>\n",
       "      <td>993</td>\n",
       "      <td>0.737358</td>\n",
       "    </tr>\n",
       "    <tr>\n",
       "      <th>793</th>\n",
       "      <td>794</td>\n",
       "      <td>0.732640</td>\n",
       "    </tr>\n",
       "    <tr>\n",
       "      <th>...</th>\n",
       "      <td>...</td>\n",
       "      <td>...</td>\n",
       "    </tr>\n",
       "    <tr>\n",
       "      <th>81</th>\n",
       "      <td>82</td>\n",
       "      <td>0.485866</td>\n",
       "    </tr>\n",
       "    <tr>\n",
       "      <th>624</th>\n",
       "      <td>625</td>\n",
       "      <td>0.482369</td>\n",
       "    </tr>\n",
       "    <tr>\n",
       "      <th>416</th>\n",
       "      <td>417</td>\n",
       "      <td>0.482369</td>\n",
       "    </tr>\n",
       "    <tr>\n",
       "      <th>396</th>\n",
       "      <td>397</td>\n",
       "      <td>0.476325</td>\n",
       "    </tr>\n",
       "    <tr>\n",
       "      <th>114</th>\n",
       "      <td>115</td>\n",
       "      <td>0.463302</td>\n",
       "    </tr>\n",
       "  </tbody>\n",
       "</table>\n",
       "<p>999 rows × 2 columns</p>\n",
       "</div>"
      ],
      "text/plain": [
       "      id  match_probability\n",
       "862  863           0.737358\n",
       "861  862           0.737358\n",
       "908  909           0.737358\n",
       "992  993           0.737358\n",
       "793  794           0.732640\n",
       "..   ...                ...\n",
       "81    82           0.485866\n",
       "624  625           0.482369\n",
       "416  417           0.482369\n",
       "396  397           0.476325\n",
       "114  115           0.463302\n",
       "\n",
       "[999 rows x 2 columns]"
      ]
     },
     "execution_count": 28,
     "metadata": {},
     "output_type": "execute_result"
    }
   ],
   "source": [
    "user_id = 1\n",
    "predicted_matches = predict_matches_reg(user_id, filtered_profiles, linear_model)\n",
    "predicted_matches.sort_values(by='match_probability',ascending=False )"
   ]
  },
  {
   "cell_type": "code",
   "execution_count": 12,
   "id": "9533d8a9-fb74-4761-9ea3-9aa6c7204dd8",
   "metadata": {},
   "outputs": [
    {
     "data": {
      "text/html": [
       "<div>\n",
       "<style scoped>\n",
       "    .dataframe tbody tr th:only-of-type {\n",
       "        vertical-align: middle;\n",
       "    }\n",
       "\n",
       "    .dataframe tbody tr th {\n",
       "        vertical-align: top;\n",
       "    }\n",
       "\n",
       "    .dataframe thead th {\n",
       "        text-align: right;\n",
       "    }\n",
       "</style>\n",
       "<table border=\"1\" class=\"dataframe\">\n",
       "  <thead>\n",
       "    <tr style=\"text-align: right;\">\n",
       "      <th></th>\n",
       "      <th>id</th>\n",
       "      <th>match_probability</th>\n",
       "    </tr>\n",
       "  </thead>\n",
       "  <tbody>\n",
       "    <tr>\n",
       "      <th>0</th>\n",
       "      <td>0</td>\n",
       "      <td>9.999998e-01</td>\n",
       "    </tr>\n",
       "    <tr>\n",
       "      <th>1</th>\n",
       "      <td>2</td>\n",
       "      <td>9.998551e-01</td>\n",
       "    </tr>\n",
       "    <tr>\n",
       "      <th>2</th>\n",
       "      <td>3</td>\n",
       "      <td>1.000000e+00</td>\n",
       "    </tr>\n",
       "    <tr>\n",
       "      <th>3</th>\n",
       "      <td>4</td>\n",
       "      <td>1.000000e+00</td>\n",
       "    </tr>\n",
       "    <tr>\n",
       "      <th>4</th>\n",
       "      <td>5</td>\n",
       "      <td>9.999998e-01</td>\n",
       "    </tr>\n",
       "    <tr>\n",
       "      <th>5</th>\n",
       "      <td>6</td>\n",
       "      <td>4.890610e-18</td>\n",
       "    </tr>\n",
       "    <tr>\n",
       "      <th>6</th>\n",
       "      <td>7</td>\n",
       "      <td>1.000000e+00</td>\n",
       "    </tr>\n",
       "    <tr>\n",
       "      <th>7</th>\n",
       "      <td>8</td>\n",
       "      <td>9.999842e-01</td>\n",
       "    </tr>\n",
       "    <tr>\n",
       "      <th>8</th>\n",
       "      <td>9</td>\n",
       "      <td>2.762631e-03</td>\n",
       "    </tr>\n",
       "    <tr>\n",
       "      <th>9</th>\n",
       "      <td>10</td>\n",
       "      <td>9.452937e-01</td>\n",
       "    </tr>\n",
       "  </tbody>\n",
       "</table>\n",
       "</div>"
      ],
      "text/plain": [
       "   id  match_probability\n",
       "0   0       9.999998e-01\n",
       "1   2       9.998551e-01\n",
       "2   3       1.000000e+00\n",
       "3   4       1.000000e+00\n",
       "4   5       9.999998e-01\n",
       "5   6       4.890610e-18\n",
       "6   7       1.000000e+00\n",
       "7   8       9.999842e-01\n",
       "8   9       2.762631e-03\n",
       "9  10       9.452937e-01"
      ]
     },
     "execution_count": 12,
     "metadata": {},
     "output_type": "execute_result"
    }
   ],
   "source": [
    "user_id = 1\n",
    "predicted_matches = predict_matches_clf(user_id, filtered_profiles, logistic_model)\n",
    "predicted_matches.head(10)"
   ]
  },
  {
   "cell_type": "code",
   "execution_count": 13,
   "id": "363797e3-5e7b-4685-a011-d5ee9d061748",
   "metadata": {},
   "outputs": [
    {
     "data": {
      "text/plain": [
       "(999, 2)"
      ]
     },
     "execution_count": 13,
     "metadata": {},
     "output_type": "execute_result"
    }
   ],
   "source": [
    "predicted_matches.shape"
   ]
  },
  {
   "cell_type": "code",
   "execution_count": null,
   "id": "63157444-2b2a-4035-b43e-15c73ae2de94",
   "metadata": {},
   "outputs": [],
   "source": []
  }
 ],
 "metadata": {
  "kernelspec": {
   "display_name": "Python 3 (ipykernel)",
   "language": "python",
   "name": "python3"
  },
  "language_info": {
   "codemirror_mode": {
    "name": "ipython",
    "version": 3
   },
   "file_extension": ".py",
   "mimetype": "text/x-python",
   "name": "python",
   "nbconvert_exporter": "python",
   "pygments_lexer": "ipython3",
   "version": "3.12.4"
  }
 },
 "nbformat": 4,
 "nbformat_minor": 5
}
